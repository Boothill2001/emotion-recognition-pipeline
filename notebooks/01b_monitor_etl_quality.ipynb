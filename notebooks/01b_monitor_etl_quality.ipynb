{
  "cells": [
    {
      "cell_type": "markdown",
      "id": "95cdb034",
      "metadata": {
        "id": "95cdb034"
      },
      "source": [
        "# 🧪 01b - Monitor Image ETL Quality\n",
        "This notebook checks for image quality issues after the ETL process such as unreadable files, invalid dimensions, or corrupted images."
      ]
    },
    {
      "cell_type": "code",
      "execution_count": null,
      "id": "371b14f4",
      "metadata": {
        "id": "371b14f4"
      },
      "outputs": [],
      "source": [
        "from google.colab import auth\n",
        "auth.authenticate_user()\n",
        "\n",
        "import os\n",
        "import io\n",
        "import pandas as pd\n",
        "from PIL import Image, UnidentifiedImageError\n",
        "from google.cloud import storage\n",
        "from tqdm import tqdm\n"
      ]
    },
    {
      "cell_type": "code",
      "execution_count": null,
      "id": "31d61ed2",
      "metadata": {
        "id": "31d61ed2"
      },
      "outputs": [],
      "source": [
        "\n",
        "project_id = \"exalted-summer-454012-d2\"\n",
        "bucket_name = \"boothill2001-dataset\"\n",
        "image_prefix = \"flickr_image_dataset/processed/\"\n"
      ]
    },
    {
      "cell_type": "code",
      "execution_count": null,
      "id": "28b8f5a8",
      "metadata": {
        "colab": {
          "base_uri": "https://localhost:8080/"
        },
        "id": "28b8f5a8",
        "outputId": "39d20b40-1de0-420e-d8d9-535237038a8b"
      },
      "outputs": [
        {
          "output_type": "stream",
          "name": "stdout",
          "text": [
            "🖼️ Total images to check: 31783\n"
          ]
        }
      ],
      "source": [
        "\n",
        "client = storage.Client(project=project_id)\n",
        "bucket = client.bucket(bucket_name)\n",
        "blobs = list(bucket.list_blobs(prefix=image_prefix))\n",
        "image_blobs = [b for b in blobs if b.name.lower().endswith(('.jpg', '.jpeg', '.png'))]\n",
        "\n",
        "print(f\"🖼️ Total images to check: {len(image_blobs)}\")\n"
      ]
    },
    {
      "cell_type": "code",
      "execution_count": null,
      "id": "85dd6c5d",
      "metadata": {
        "colab": {
          "base_uri": "https://localhost:8080/"
        },
        "id": "85dd6c5d",
        "outputId": "53eea9bc-158f-4efe-ef70-c25f6ef5b37c"
      },
      "outputs": [
        {
          "output_type": "stream",
          "name": "stderr",
          "text": [
            "100%|██████████| 31783/31783 [51:25<00:00, 10.30it/s]\n"
          ]
        },
        {
          "output_type": "stream",
          "name": "stdout",
          "text": [
            "✅ Monitoring log saved to image_etl_monitor_log.csv\n"
          ]
        }
      ],
      "source": [
        "\n",
        "log = []\n",
        "\n",
        "for blob in tqdm(image_blobs):\n",
        "    result = {\n",
        "        \"filename\": blob.name,\n",
        "        \"status\": \"OK\",\n",
        "        \"width\": None,\n",
        "        \"height\": None,\n",
        "        \"error\": \"\"\n",
        "    }\n",
        "    try:\n",
        "        image_data = blob.download_as_bytes()\n",
        "        image = Image.open(io.BytesIO(image_data))\n",
        "        result[\"width\"], result[\"height\"] = image.size\n",
        "\n",
        "        if image.size != (224, 224):\n",
        "            result[\"status\"] = \"INVALID_DIMENSION\"\n",
        "            result[\"error\"] = f\"Got size {image.size}\"\n",
        "    except UnidentifiedImageError:\n",
        "        result[\"status\"] = \"CORRUPTED\"\n",
        "        result[\"error\"] = \"UnidentifiedImageError\"\n",
        "    except Exception as e:\n",
        "        result[\"status\"] = \"ERROR\"\n",
        "        result[\"error\"] = str(e)\n",
        "\n",
        "    log.append(result)\n",
        "\n",
        "df_log = pd.DataFrame(log)\n",
        "df_log.to_csv(\"image_etl_monitor_log.csv\", index=False)\n",
        "print(\"✅ Monitoring log saved to image_etl_monitor_log.csv\")\n"
      ]
    },
    {
      "cell_type": "code",
      "execution_count": null,
      "id": "39f890b6",
      "metadata": {
        "id": "39f890b6",
        "colab": {
          "base_uri": "https://localhost:8080/"
        },
        "outputId": "9892acdb-8430-4f2f-f02b-31898ffeb945"
      },
      "outputs": [
        {
          "output_type": "stream",
          "name": "stdout",
          "text": [
            "☁️ Uploaded monitoring log to GCS: monitoring/image_etl_monitor_log.csv\n"
          ]
        }
      ],
      "source": [
        "\n",
        "log_blob = bucket.blob(\"monitoring/image_etl_monitor_log.csv\")\n",
        "log_blob.upload_from_filename(\"image_etl_monitor_log.csv\")\n",
        "print(\"☁️ Uploaded monitoring log to GCS: monitoring/image_etl_monitor_log.csv\")\n"
      ]
    },
    {
      "cell_type": "code",
      "execution_count": null,
      "id": "fa81cfab",
      "metadata": {
        "id": "fa81cfab",
        "colab": {
          "base_uri": "https://localhost:8080/",
          "height": 478
        },
        "outputId": "0f6d7522-a7b1-4634-9038-ef574c7108b1"
      },
      "outputs": [
        {
          "output_type": "display_data",
          "data": {
            "text/plain": [
              "<Figure size 640x480 with 1 Axes>"
            ],
            "image/png": "[encoded data removed]"
          },
          "metadata": {}
        }
      ],
      "source": [
        "\n",
        "import matplotlib.pyplot as plt\n",
        "\n",
        "summary = df_log['status'].value_counts()\n",
        "summary.plot(kind='bar', color='orange')\n",
        "plt.title(\"Image ETL Quality Summary\")\n",
        "plt.xlabel(\"Status\")\n",
        "plt.ylabel(\"Count\")\n",
        "plt.grid(True)\n",
        "plt.show()\n"
      ]
    }
  ],
  "metadata": {
    "colab": {
      "provenance": [],
      "gpuType": "T4"
    },
    "language_info": {
      "name": "python"
    },
    "kernelspec": {
      "name": "python3",
      "display_name": "Python 3"
    }
  },
  "nbformat": 4,
  "nbformat_minor": 5
}